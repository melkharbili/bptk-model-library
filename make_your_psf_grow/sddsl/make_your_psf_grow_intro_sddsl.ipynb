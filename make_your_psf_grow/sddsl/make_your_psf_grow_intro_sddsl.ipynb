{
 "cells": [
  {
   "cell_type": "markdown",
   "metadata": {},
   "source": [
    "# Case Study: Make Your Professional Service Firm Grow\n",
    "### Introduction"
   ]
  },
  {
   "cell_type": "markdown",
   "metadata": {},
   "source": [
    "## A Business Model Blueprint for Professional Service Firms"
   ]
  },
  {
   "cell_type": "markdown",
   "metadata": {},
   "source": [
    "In order to illustrate how the generic business model blueprint can be applied to a specific industry this post introduces the business model blueprint for the professional services industry."
   ]
  },
  {
   "cell_type": "markdown",
   "metadata": {},
   "source": [
    "The main reason why I have chosen professional service firms today is that I've worked with and built prototypes for a number of such firms in the past, mostly in the IT industry but also in the energy sector."
   ]
  },
  {
   "cell_type": "markdown",
   "metadata": {},
   "source": [
    "My favorite reading on professional service firms are the books by David Maister, the following definitions are from his book *Managing the Professional Service Firm*:"
   ]
  },
  {
   "cell_type": "markdown",
   "metadata": {},
   "source": [
    "A professional service firm (PSF) is a firm in which professional skills form the basis of its offering to customers. Examples of such PSFs are lawyers, consultants and IT service firms. Two aspects of professional work create the special management challenges of PSFs: "
   ]
  },
  {
   "cell_type": "markdown",
   "metadata": {},
   "source": [
    "- _Customisation_. Professional services require a high degree of customisation, so that approaches from the industrial or mass consumer sectors, based on the standardisation, supervision and marketing of repetitive tasks and products are difficult to apply.\n",
    "- _Client contact_. Most professional services have a strong component of face-to-face interaction with the client. In order to meet these challenges, a professional service firm must hire and retain highly skilled individuals, the firm's talents. This means that the PSF must actively compete in two markets simultaneously: the product market for its services, and the factor market for its productive resources, the professional work force."
   ]
  },
  {
   "cell_type": "markdown",
   "metadata": {},
   "source": [
    "These definitions give us a good understanding of what a professional service firm does, now we can start sketching its business model. The main objective at this point is to understand what the value network, transaction model and value logic of the professional firm look like. As illustrated in my post on the generic business model blueprint, I like to use a visual modelling approach for this, but you could also use other approaches (such as Osterwalder's business model canvas) at this stage."
   ]
  },
  {
   "cell_type": "markdown",
   "metadata": {},
   "source": [
    "---"
   ]
  },
  {
   "cell_type": "markdown",
   "metadata": {},
   "source": [
    "## The Value Network"
   ]
  },
  {
   "cell_type": "markdown",
   "metadata": {},
   "source": [
    "When modelling business models I mostly start with the value network, then look at the transaction model before finishing with the value logic. But it is imperative to keep the approach iterative, so that insights gained while modelling the value logic and transaction model can flow back into the value network, so in client situations we find ourselves cycling through the steps at least two or three times before we feel the blueprints are \"complete\" enough to start building the concrete prototypes. Even then it is not uncommon to uncover new aspects while building the prototoype that lead to changes to the initial blueprints."
   ]
  },
  {
   "cell_type": "markdown",
   "metadata": {},
   "source": [
    "The primary questions the value network should answer are:"
   ]
  },
  {
   "cell_type": "markdown",
   "metadata": {},
   "source": [
    "- Which parties (customers, suppliers, business partners) do you deal with to ensure you can create value?\n",
    "- Which channels do you need to maintain to communicate and exchange with these parties?"
   ]
  },
  {
   "cell_type": "markdown",
   "metadata": {},
   "source": [
    "A good place to start to answer this questions for PSFs is the definition given by Maister: it is clear that the PSF needs customers, which are typically referred to as clients in this industry, and the PSF delivery consulting services to these clients. Depending on the type of PSF (e.g.IT services or strategy consulting) these services will be delivered in different ways, e.g. in IT services the ratio of face time work with the client to back office work working on an IT system will be different to that of a strategy consulting firm where most of the work is done face-to-face with the customer. At a specific PSF you will often find that you have different delivery channels according to client segments (or even individual clients), in which case you would need to add a party for each client segment with an individual delivery channel for each. Because we are dealing with a generic situation here it is enough to add a delivery channel to the diagram."
   ]
  },
  {
   "cell_type": "markdown",
   "metadata": {},
   "source": [
    "It is also clear from Maister's definition that the PSF is competing for talents in the factor market. Typically, a PSF will do this via a combination of three channels : one targeted directly at the talents (e.g. through the PSFs websites, through adverts in Magazines and on websites), one targeted at students via co - operations with universities and a third one via recruiting agencies. To maintain scalability PSFs often work with freelance consulants (especially in the IT services industry), so these recruiting agencies may supply both full-time and freelance talents."
   ]
  },
  {
   "cell_type": "markdown",
   "metadata": {},
   "source": [
    "My experience shows that PSFs often work together with preferred partners who complement their knowledge in one way or another, so we should add know-how partners to the value network."
   ]
  },
  {
   "cell_type": "markdown",
   "metadata": {},
   "source": [
    "Also it is important to realise that selling professional services mostly takes place at a personal, face-to-face level. In order to generate new and interesting business opportunities and later support the sales process, PSFs maintain a network of business contacts (e.g.current and former clients, people working in relevant industries, alumni, ...). We therefore add these to our value network and add a sales information channel (again bearing in mind that for a specific PSF there may be multiple groups of business contacts that are managed via corresponding channels)."
   ]
  },
  {
   "cell_type": "markdown",
   "metadata": {},
   "source": [
    "Putting all this together we arrive at the following blueprint for the value network of a PSF. This blueprint is a good starting point for modelling a firm-specific value network."
   ]
  },
  {
   "cell_type": "markdown",
   "metadata": {},
   "source": [
    "<div align=\"center\"><img src=\"images/value_network.svg\" width=\"90%\"></div>"
   ]
  },
  {
   "cell_type": "markdown",
   "metadata": {},
   "source": [
    "---"
   ]
  },
  {
   "cell_type": "markdown",
   "metadata": {},
   "source": [
    "## The Transaction Model"
   ]
  },
  {
   "cell_type": "markdown",
   "metadata": {},
   "source": [
    "The main questions a transaction model should answer are:"
   ]
  },
  {
   "cell_type": "markdown",
   "metadata": {},
   "source": [
    "- What products and artifacts do you exchange via the channels of the value network?\n",
    "- Which transactions do you need for this?\n",
    "- How often are these transactions performed?\n",
    "- What benefits (e.g.revenue) and cost (e.g. cost for external suppliers, internal effort) are associated with these transactions?"
   ]
  },
  {
   "cell_type": "markdown",
   "metadata": {},
   "source": [
    "The questions regarding the cost, benefits and frequency of a transaction are especially important:"
   ]
  },
  {
   "cell_type": "markdown",
   "metadata": {},
   "source": [
    "- the (financial) measure of the value a company creates depends on the costs and benefits associated with the transaction: value = cost - benefits. The total value added by the company is thus the sum of the value generated by each individual transaction, over all transactions that are performed.\n",
    "- the frequency at which transactions are performed tells you something about the demand for a capability that is critical to any company: the ability to manage its transactions. Naturally it makes a big difference if you are managing many transactions or few transactions. For instance, one of our clients provides a fully automated tolling service - they perform millions of transactions a week. Each individual transaction generates only very little value, but all together the value generated adds up to billions of euros per year. Another client of ours provides engineering services for power plants - the transactions they perform sometimes take more than ten years to complete, and they only perform a few of these in parallel."
   ]
  },
  {
   "cell_type": "markdown",
   "metadata": {},
   "source": [
    "The starting point for exploring the transaction model is the value network I introduced in the last section."
   ]
  },
  {
   "cell_type": "markdown",
   "metadata": {},
   "source": [
    "The easiest way to proceed is to systematically go through all channels and ask which products and artifacts are exchanged via that channel and which transactions are used. At this stage it is important to get a complete, but not detailed picture of the transactions - you should identify all relevant transactions and get a rough estimate of the figures regarding freuqency, cost and benefits; but you don't need to look at how transactions are performed in detail or how exactly these figures come about (we do that at a later stage, while building the prototype)."
   ]
  },
  {
   "cell_type": "markdown",
   "metadata": {},
   "source": [
    "To illustrate the process I will just take a look at one of the channels in detail, the direct recruiting channel between the professional service firm and the market of talents. Also - because this is a generic, industry-specific transaction model - I will not go into the concrete figures regarding the value generated by the transactions, we will take a look at a more concrete, quantified example a little later on in this chapter."
   ]
  },
  {
   "cell_type": "markdown",
   "metadata": {},
   "source": [
    "So which transactions are associated with the direct recruiting channel?"
   ]
  },
  {
   "cell_type": "markdown",
   "metadata": {},
   "source": [
    "A useful approach to identify the transactions associated with a channel is to think along a life cycle: the PSF first has to awaken the talents interest (by providing recruiting materials), it then recruits the talents (and provides an employment contract). Eventually the talent will leave the company. So we end up with three transactions (note that I record the products and artifacts that are exchanged in brackets after the name of the transaction):"
   ]
  },
  {
   "cell_type": "markdown",
   "metadata": {},
   "source": [
    "- provide recruiting materials (recruiting materials)\n",
    "- recruit talents (contract, talent)\n",
    "- discharge talent (talent)"
   ]
  },
  {
   "cell_type": "markdown",
   "metadata": {},
   "source": [
    "If you continue this process for the other channels of the value network, you will end up with a diagram similar to this one - the transaction model blueprint for professional service firms:"
   ]
  },
  {
   "cell_type": "markdown",
   "metadata": {},
   "source": [
    "<div align=\"center\"><img src=\"images/transaction_model.svg\" width=\"90%\"></div>"
   ]
  },
  {
   "cell_type": "markdown",
   "metadata": {},
   "source": [
    "---"
   ]
  },
  {
   "cell_type": "markdown",
   "metadata": {},
   "source": [
    "## The Value Creation Logic"
   ]
  },
  {
   "cell_type": "markdown",
   "metadata": {},
   "source": [
    "To me, sketching a company's value logic is the most exciting part of business model prototyping - the value logic captures the main feedback loops that drives a company's business and show the unique recipe it uses to be successful. My experience is that few managers and leaders have ever explicitly visualised these feedback loops for their company. In fact, especially in larger companies, there are mostly only few people who have a good understanding of how the entire company works. So while it is challenging to create these diagrams, it is also exhilarating, because everybody gains insight into the workings of their company."
   ]
  },
  {
   "cell_type": "markdown",
   "metadata": {},
   "source": [
    "The value network shows how the company does business with and the transaction model shows which products and artifacts are exchanged. But looking at a diagram of a value network or a transaction model is a bit like looking at an \"exploded\" view of the parts of a motor - even if I know all the parts and how they fit together I still can't \"see\" how the motor works."
   ]
  },
  {
   "cell_type": "markdown",
   "metadata": {},
   "source": [
    "In business model prototyping, this is where the value logic comes into play: it captures the logic of how the individual transactions work together to create a dynamic, running business."
   ]
  },
  {
   "cell_type": "markdown",
   "metadata": {},
   "source": [
    "To make this more concrete: We know the PSF needs its talents to deliver professional services, and we know the PSF hires new talents via its recruiting transactions."
   ]
  },
  {
   "cell_type": "markdown",
   "metadata": {},
   "source": [
    "But when does the PSF hire new talents? On demand, whenever services need to be delivered? Or does the PSF have a fixed growth target? Or is hiring a chance process? What exactly does the firm's hiring policy look like?"
   ]
  },
  {
   "cell_type": "markdown",
   "metadata": {},
   "source": [
    "So, the main questions we need to answer when modelling the value logic are:"
   ]
  },
  {
   "cell_type": "markdown",
   "metadata": {},
   "source": [
    "- How are the company's resources and capabilities used to create new products, attract customers, sell products and drive value creation?\n",
    "- Which feedback loops ensure that the business model is sustainable?"
   ]
  },
  {
   "cell_type": "markdown",
   "metadata": {},
   "source": [
    "When sketching the value creation logic with my clients I like to use the generic value creation logic blueprint as a starting point. I covered this in the chapter on the business model concept, but I have repeated the main causal loop below for ease of reference:"
   ]
  },
  {
   "cell_type": "markdown",
   "metadata": {},
   "source": [
    "<div align=\"center\"><img src=\"images/value_logic_1.svg\" width=\"90%\"></div>"
   ]
  },
  {
   "cell_type": "markdown",
   "metadata": {},
   "source": [
    "The diagram says that resources and capabilities lead to new products in the product offering, which lead to new customers, which lead to more product sales, which leads to revenue, which provides cash. The cash is then used to buy more resources and build new capabilities, which again can be used to design new products. This closed feedback loop is the \"motor\" that powers every company."
   ]
  },
  {
   "cell_type": "markdown",
   "metadata": {},
   "source": [
    "Now, let's map this to our PSF situation: The main resources are PSFs the talents, the main capability is the PSF's know-how. The products being offered are the professional services, the customers are the clients. Amongst management consulting and engineering companies a service that has been sold and is being delivered is often referred to as a project - I will use that term here, even though it does not apply to all professional services. This leads to the following initial diagram of our PSF's value logic:"
   ]
  },
  {
   "cell_type": "markdown",
   "metadata": {},
   "source": [
    "<div align=\"center\"><img src=\"images/value_logic_2.svg\" width=\"90%\"></div>"
   ]
  },
  {
   "cell_type": "markdown",
   "metadata": {},
   "source": [
    "This diagram is looking good already - but structurally it is still identical to the generic blueprint, we have only changed the wording."
   ]
  },
  {
   "cell_type": "markdown",
   "metadata": {},
   "source": [
    "Now is the time to use our more specific knowledge of the professional services industry to add new connections: we know that the know-how a PSF has also depends on its talents. We also know that the know-how will be influenced by the projects the PSF delivers, because the firm's talents gain experience and (client specific) knowledge during project delivery (that's one of the reasons most new PSFs are started by experienced professionals and not by talents coming straight from University). Adding these connections leads to the following diagram:"
   ]
  },
  {
   "cell_type": "markdown",
   "metadata": {},
   "source": [
    "<div align=\"center\"><img src=\"images/value_logic_3.svg\" width=\"90%\"></div>"
   ]
  },
  {
   "cell_type": "markdown",
   "metadata": {},
   "source": [
    "So far, everything is looking good - perhaps too good: the amount of cash the company has just seems to depend on the revenue. But what about the costs? Don't the talents cost money? Presumably we also need to spend on knowledge maintenance? Also, the hiring of talents just depends on the cash the PSF has - surely the services, clients and projects also must have something to do with the hiring policies?"
   ]
  },
  {
   "cell_type": "markdown",
   "metadata": {},
   "source": [
    "This is the wonderful thing about building prototypes (and models in general): as soon as you put your ideas down on paper a thousand questions are raised which lead to new insights. The next diagram attempts to answer these questions - the value logic blueprint for professional service firms:"
   ]
  },
  {
   "cell_type": "markdown",
   "metadata": {},
   "source": [
    "<div align=\"center\"><img src=\"images/value_logic_4.svg\" width=\"90%\"></div>"
   ]
  },
  {
   "cell_type": "markdown",
   "metadata": {},
   "source": [
    "I have added a balancing loop that accounts for the cost of the talents and know-how maintenance. I've also added a policy for the demand for talent - this will depend on the projects the PSF needs to deliver, the clients the PSF has and wants to develop, and on the professional services the company is offering and wants to develop. Of course the demand is regulated by the number of talents the PSF already has. Most companies also hire according to a specific growth target, generating a strategic demand on top of the operative demand."
   ]
  },
  {
   "cell_type": "markdown",
   "metadata": {},
   "source": [
    "To ensure the diagram is complete, we need to cross check with the PSFs value network and PSFs the transaction model. You will notice that we haven't included the business contacts, the universities and recruiting agencies in our value logic. This is acceptable at the conceptual level: the business contacts are needed to to find new clients and sell services, we already have a loop for this in our diagram; the universities and recruiting agencies are part of the talent hiring loop."
   ]
  },
  {
   "cell_type": "markdown",
   "metadata": {},
   "source": [
    "I have found that the generic PSF value logic diagram is a starting point for investigating the value logic of specific professional services firms. Please check my post on the Key Performance Indicators in Professional Service Firms for a concrete example. The generic diagram is also a good starting point for exploring the constraints coming from the market (e.g. the general market condition and the competitive situation regarding the service offering, client acquisition and recruiting talents) and for discussing financing options (e.g. initial equity needed, debt financing to ensure liquidity during aggressive growth periods, dividends, ...)."
   ]
  },
  {
   "cell_type": "markdown",
   "metadata": {},
   "source": [
    "We have now gone through the early stages of a business prototyping session and have created diagrams of the PSFs value network, its transaction model and its value logic - in the next section we will become more quantitative and look at some growth strategies for professional service firms."
   ]
  }
 ],
 "metadata": {
  "kernelspec": {
   "display_name": "Python 3 (ipykernel)",
   "language": "python",
   "name": "python3"
  },
  "language_info": {
   "codemirror_mode": {
    "name": "ipython",
    "version": 3
   },
   "file_extension": ".py",
   "mimetype": "text/x-python",
   "name": "python",
   "nbconvert_exporter": "python",
   "pygments_lexer": "ipython3",
   "version": "3.9.7"
  }
 },
 "nbformat": 4,
 "nbformat_minor": 4
}
