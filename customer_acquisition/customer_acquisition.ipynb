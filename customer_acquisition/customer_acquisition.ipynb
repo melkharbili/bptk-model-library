{
 "cells": [
  {
   "cell_type": "code",
   "execution_count": 1,
   "metadata": {},
   "outputs": [
    {
     "data": {
      "application/javascript": [
       "/*this sets the title of the browser tab - useful if you have multiple JupyterLab sessions*/\n",
       "document.title='BPTK Model Library'\n"
      ],
      "text/plain": [
       "<IPython.core.display.Javascript object>"
      ]
     },
     "metadata": {},
     "output_type": "display_data"
    }
   ],
   "source": [
    "%%javascript\n",
    "/*this sets the title of the browser tab - useful if you have multiple JupyterLab sessions*/\n",
    "document.title='BPTK Model Library'"
   ]
  },
  {
   "cell_type": "markdown",
   "metadata": {},
   "source": [
    "# Simple Customer Acquisition Model"
   ]
  },
  {
   "cell_type": "markdown",
   "metadata": {},
   "source": [
    "This notebook illustrates how to use a notebook to mix text, images, plots and interactive interfaces. It uses a simple customer acquisition model as an illustration and is based on a [post](https://www.transentis.com/an-example-to-illustrate-the-business-prototyping-methodology) from our blog."
   ]
  },
  {
   "cell_type": "markdown",
   "metadata": {},
   "source": [
    "## The Challenge\n",
    "\n",
    "Most business prototyping activities start with a challenge, so let’s suppose you are given the following challenge by your CEO:\n",
    "\n",
    "“We are launching a new service in six months.\n",
    "My feeling is that in the past our sales figures have been too low given our spending on advertising.\n",
    "Please take some time to understand how we have approached service advertising in the past and see whether you can come up with some ideas to improve the service adoption rate in the future.”\n",
    "\n",
    "![The Challenge](images/challenge.jpg)"
   ]
  },
  {
   "cell_type": "markdown",
   "metadata": {},
   "source": [
    "## Use Simple Sketches To Capture Initial Ideas And Define The Scope\n",
    "\n",
    "So, in this case, we have a simple sketch showing the kinds of marketing that has is going on or could be going on. We have got classical outbound marketing, we have got inbound marketing, we have got word-of-mouth marketing and referral marketing and during such a discussion, you may well find out that actually what you have been doing so far, typically, is perhaps outbound marketing and you have completely neglected other strategies such as referral strategies or inbound marketing.\n",
    "\n",
    "![Use Simple Sketches](images/simple_sketches.jpg)\n",
    "\n",
    "While exploring your challenge you most likely come up with quite a few potential ideas. You always need to be clear about the scope of your assignment – which ideas should you look at now, which can you put aside and come back to later.\n",
    "\n",
    "\n",
    "![Define The Scope](images/scope.jpg)\n",
    "\n",
    "In our case it probably doesn’t make sense to look at the inbound marketing strategy for now, because it will take longer to set up than the six month time frame the CEO was speaking about.\n",
    "\n",
    "So let’s put that idea on the back burner for now and just concentrate on referral marketing.\n",
    "\n",
    "See, even really simple diagrams such as this one are useful in defining the scope of an assignment!"
   ]
  },
  {
   "cell_type": "markdown",
   "metadata": {},
   "source": [
    "## Capture Key Interactions\n",
    "\n",
    "Once you have understood the key concepts, the next thing to do in prototyping is to a build a more detailed model of how the system you are trying to change works. Depending on the kind of challenge, quite a number of different kinds of modeling techniques could be useful here.\n",
    "\n",
    "In our concrete case, we want to understand the factors that influence the service adoption rate and potential benefits and costs associated with any changes we make to the current approach.\n",
    "\n",
    "We are dealing with a dynamic problem, because we would like the service adoption rate to change and increase over time – whenever you are confronted with dynamic complexity at a strategic level, causal loop diagrams are good weapon to choose.\n",
    "\n",
    "They are useful to capture the key interactions in a system and to capture the dynamics behavior of a system. We will cover causal loop diagrams in detail in the next chapter of this course.\n",
    "\n",
    "![Key Interactions](images/key_interactions.jpg)\n",
    "\n",
    "Let’s take a brief look at what this little model is telling us: On the left hand side we have a loop that shows how we acquire customers via advertising – the more money we spend on advertising, the more people we will reach, and some of these people will become customers of our service. This is a loop, because all marketing is constrained by market saturation – if our service is really successful and we gain more and more customers, advertising will become less effective because a lot of our adverts will reach people who already are our customers.\n",
    "\n",
    "In the middle of the diagram, we can see the new referral marketing idea we want to experiment with – the idea is to get people who have already subscribed to our service to refer new customers; we give them a – yet to be determined – amount of free service time for every referral. This is a positive loop, because the more customers we have the more referrals they ought to generate, thus – if the referral scheme is successful – increasing our customer base very rapidly.\n",
    "\n",
    "Needless to say we are interested not only in the benefits of such a referral schema but also in its cost. On the right side of the diagram you can see all the factors affecting the profitability of the service. We assume there is an operative margin associated with each subscription and we use this to recuperate the initial investment and pay for marketing activities.\n",
    "\n",
    "So while this is a small model at a very abstract level, it actually captures all the essential elements. We probably could use this basic model quite well in a real life situation – we would probably end up making it slightly more detailed to account for different advertising channels and there would be a number of special effects in service adoption rates we would have to account for … but it certainly would be a good starting point."
   ]
  },
  {
   "cell_type": "markdown",
   "metadata": {},
   "source": [
    "## Get Quantitative\n",
    "\n",
    "Now that we have our basic model, we need to get quantitative and assign values to each of the factors in the model.\n",
    "\n",
    "There aren’t that many numbers we have to define – the key ones here are that we are targeting a market of 6 Mio potential customers. Our customers pay €10 per month for using the service and there is an operative margin of 50% associated with the service. This margin includes the running costs of the service, but not the initial investment of € 1 Mio and not the marketing costs.\n",
    "\n",
    "![Get Quantitative](images/key_interactions.jpg)\n",
    "\n",
    "What is also important is that 0.1% of our adverts have been successful in the past, that is every 1000th person who sees our ad actually adopts the service."
   ]
  },
  {
   "cell_type": "markdown",
   "metadata": {},
   "source": [
    "## Experiment With The Model\n",
    "\n",
    "Once we have quantified the model, we can build an interactive simulation to experiment with different strategies. \n",
    "\n",
    "Be sure to test the base case: this is our “old” marketing scheme without referrals. The base case shows that we reach break even after around 24 months.\n",
    "\n",
    "You can also play with the referral program to see what effect it could have on profitability, depending on your assumptions of how well the referral program is adopted. For instance, if we are conservative and assume that 1% of our customers will adopt the program and they have to bring one referral per free month of service, then we would make slightly more profit than in the base case."
   ]
  },
  {
   "cell_type": "code",
   "execution_count": 2,
   "metadata": {},
   "outputs": [],
   "source": [
    "## Load the BPTK Package\n",
    "from BPTK_Py.bptk import bptk \n",
    "\n",
    "bptk = bptk()"
   ]
  },
  {
   "cell_type": "code",
   "execution_count": 3,
   "metadata": {},
   "outputs": [
    {
     "data": {
      "application/vnd.jupyter.widget-view+json": {
       "model_id": "14d0ad025f2d44d48e8a5f12cab42403",
       "version_major": 2,
       "version_minor": 0
      },
      "text/plain": [
       "Tab(children=(Output(), Output()), _titles={'0': 'Customers', '1': 'Profit'})"
      ]
     },
     "metadata": {},
     "output_type": "display_data"
    },
    {
     "data": {
      "application/vnd.jupyter.widget-view+json": {
       "model_id": "da029499d04b41a2b59649c6415ec290",
       "version_major": 2,
       "version_minor": 0
      },
      "text/plain": [
       "interactive(children=(FloatSlider(value=0.1, continuous_update=False, description='Advertising Success %', lay…"
      ]
     },
     "metadata": {},
     "output_type": "display_data"
    }
   ],
   "source": [
    "%matplotlib inline\n",
    "import matplotlib.pyplot as plt\n",
    "from ipywidgets import interact\n",
    "import ipywidgets as widgets\n",
    "\n",
    "bptk.register_scenarios(scenario_manager=\"smCustomerAcquisition\", scenarios= \n",
    "                      {\n",
    "                          \"interactiveScenario\":{\n",
    "                              \"constants\":{\n",
    "                                 \"referrals\":0,\n",
    "                                  \"advertisingSuccessPct\":0.1,\n",
    "                                  \"referralFreeMonths\":3,\n",
    "                                  \"referralProgamAdoptionPct\":10\n",
    "                                }\n",
    "                          }\n",
    "                    }\n",
    ")\n",
    "\n",
    "out1 = widgets.Output()\n",
    "out2 = widgets.Output()\n",
    "\n",
    "\n",
    "tab = widgets.Tab(children = [out1, out2])\n",
    "tab.set_title(0, 'Customers')\n",
    "tab.set_title(1, 'Profit')\n",
    "display(tab)\n",
    "    \n",
    "@interact(advertising_success_pct=widgets.FloatSlider(\n",
    "    value=0.1,\n",
    "    min=0,\n",
    "    max=10,\n",
    "    step=0.01,\n",
    "    continuous_update=False,\n",
    "    description='Advertising Success %',\n",
    "    style={'description_width': 'initial'},\n",
    "    layout=widgets.Layout(width='40%')\n",
    "    ),\n",
    "    referral_program_adoption_pct=widgets.FloatSlider(\n",
    "    value=10,\n",
    "    min=0,\n",
    "    max=30,\n",
    "    step=1,\n",
    "    continuous_update=False,\n",
    "    description='Referral Program Success %',\n",
    "    style={'description_width': 'initial'},\n",
    "    layout=widgets.Layout(width='40%')\n",
    "    ),\n",
    "    referrals=widgets.FloatSlider(\n",
    "    value=0,\n",
    "    min=0,\n",
    "    max=11,\n",
    "    step=1,\n",
    "    continuous_update=False,\n",
    "    description='Referrals',\n",
    "    style={'description_width': 'initial'},\n",
    "    layout=widgets.Layout(width='40%')\n",
    "    ),\n",
    "    referral_free_months=widgets.FloatSlider(\n",
    "    value=3,\n",
    "    min=0,\n",
    "    max=11,\n",
    "    step=1,\n",
    "    continuous_update=False,\n",
    "    description='Referral Free Months',\n",
    "    style={'description_width': 'initial'},\n",
    "    layout=widgets.Layout(width='40%')\n",
    "    ),\n",
    "          \n",
    ")\n",
    "def dashboardWithTabs(advertising_success_pct,referral_program_adoption_pct,referrals,referral_free_months):\n",
    "    scenario= bptk.get_scenario(\"smCustomerAcquisition\",\"interactiveScenario\")\n",
    "    \n",
    "    scenario.constants[\"advertisingSuccessPct\"]=advertising_success_pct\n",
    "    scenario.constants[\"referralProgramAdoptionPct\"]=referral_program_adoption_pct\n",
    "    scenario.constants[\"referrals\"]=referrals\n",
    "    scenario.constants[\"referral_free_monthds\"]=referral_free_months\n",
    "    \n",
    "    bptk.reset_simulation_model(scenario_manager=\"smCustomerAcquisition\",\n",
    "                                                             scenario=\"interactiveScenario\")\n",
    "   \n",
    "   \n",
    "     \n",
    "    with out1:\n",
    "        # turn of pyplot's interactive mode to ensure the plot is not created directly\n",
    "        plt.ioff() \n",
    "        # clear the widgets output ... otherwise we will end up with a long list of plots, one for each change of settings\n",
    "        \n",
    "        # create the plot, but don't show it yet\n",
    "        bptk.plot_scenarios(\n",
    "            scenario_managers=[\"smCustomerAcquisition\"],\n",
    "            scenarios=[\"interactiveScenario\"], \n",
    "            equations=['customers'],\n",
    "            title=\"Interactive Scenario\",\n",
    "            freq=\"M\",\n",
    "            x_label=\"Time\",\n",
    "            y_label=\"No. of Customers\"\n",
    "            )\n",
    "        # show the plot\n",
    "        out1.clear_output() \n",
    "        plt.show()\n",
    "        # turn interactive mode on again\n",
    "        plt.ion()\n",
    "\n",
    "    with out2:\n",
    "        plt.ioff()\n",
    "        out2.clear_output()\n",
    "        bptk.plot_scenarios(\n",
    "            scenario_managers=[\"smCustomerAcquisition\"],\n",
    "            scenarios=[\"interactiveScenario\"], \n",
    "            equations=['profit'],\n",
    "            title=\"Interactive Scenario\",\n",
    "            freq=\"M\",\n",
    "            x_label=\"Time\",\n",
    "            y_label=\"Euro\"\n",
    "            )\n",
    "        plt.show()\n",
    "        plt.ion()"
   ]
  },
  {
   "cell_type": "markdown",
   "metadata": {},
   "source": [
    "## Identify Critical Factors\n",
    "\n",
    "The next step after experimenting with the model for a bit is to identify the critical factors that are relevant to making a decision.\n",
    "\n",
    "By definition, a critical factor is one that will have both a high impact on your results and is fraught with uncertainty – you simply don’t know which value these factors will really have.\n",
    "\n",
    "![Critical Factors](images/critical_factors.jpg)\n",
    "\n",
    "In this example, there are two such factors – we don’t know how successful our advertising campaign is going to be (though we do have a lot of experience from previous campaigns here) and we have no idea how well the referral program will be adopted."
   ]
  },
  {
   "cell_type": "markdown",
   "metadata": {},
   "source": [
    "## Define Plausible Scenarios\n",
    "\n",
    "What we do in such a case is take a look at a realistic range for each of these values and build scenarios from them.\n",
    "\n",
    "![Critical Factors](images/scenarios.jpg)\n",
    "\n",
    "In this example we end up with four scenarios:\n",
    "\n",
    "* The “Here We Go” scenario that assumes that 10% of our customers adopt the referral program, getting three months of free service for three referrals; in this scenario, the advertising campaign is also successful, at the same level of 0.1% we saw in previous campaigns.\n",
    "* On the other hand, we also have a “Service Flop” scenario, which assumes that only 1% of customers adopt the referral program and the advertising campaign also is much less successful at 0.01%.\n",
    "* The “Rethink Advertising” and the “Refer someone, please!” are mixed scenarios.\n",
    "\n",
    "What we learn from these scenarios is that unless the service flops completely, referral marketing could actually be a good approach – even in the “Refer someone, please!” scenario we improve customer base and thus our profit."
   ]
  },
  {
   "cell_type": "markdown",
   "metadata": {},
   "source": [
    "## Analyze Opportunities and Risk\n",
    "\n",
    "Before we move on we should of course also look at opportunities and risks – it actually turns out that what is an opportunity also carries some risk.\n",
    "\n",
    "\n",
    "![Analyze Opportunities and Risk](images/opportunities_risks.jpg)\n",
    "\n",
    "\n",
    "Let’s take a look at a scenario which I have called “Boom But Bust”: we offer three months of free service for every referral. The program is adopted by a staggering 30% of our customers. In the long run, our customer base and our profit go through the roof.\n",
    "\n",
    "But look at what happens in the short run – we end up with a cash shortfall of around €24.5 Mio. after two years. That could be very difficult to finance."
   ]
  },
  {
   "cell_type": "markdown",
   "metadata": {},
   "source": [
    "## Build A Management Dashboard"
   ]
  },
  {
   "cell_type": "markdown",
   "metadata": {},
   "source": [
    "Once you have finalised your simulation, you can build a fancy management dashboard to share with a wider audience.\n",
    "\n",
    "Here is a dashboard we created using PowerBI, using data exported from the simulation model:"
   ]
  },
  {
   "cell_type": "code",
   "execution_count": 4,
   "metadata": {},
   "outputs": [
    {
     "data": {
      "text/html": [
       "\n",
       "        <iframe\n",
       "            width=\"933\"\n",
       "            height=\"700\"\n",
       "            src=\"https://app.powerbi.com/view?r=eyJrIjoiNDFlMTA2ZGItYmFkOC00Mjg3LTljODYtYzRkYzY2YmFmM2E4IiwidCI6ImZjNWRmZDc1LTQ1NzktNGQ3MC05YTE3LTk0MmQ0OWMwMTc2ZiIsImMiOjl9\"\n",
       "            frameborder=\"0\"\n",
       "            allowfullscreen\n",
       "            \n",
       "        ></iframe>\n",
       "        "
      ],
      "text/plain": [
       "<IPython.lib.display.IFrame at 0x133ad53a0>"
      ]
     },
     "execution_count": 4,
     "metadata": {},
     "output_type": "execute_result"
    }
   ],
   "source": [
    "from IPython.display import IFrame       \n",
    "IFrame('https://app.powerbi.com/view?r=eyJrIjoiNDFlMTA2ZGItYmFkOC00Mjg3LTljODYtYzRkYzY2YmFmM2E4IiwidCI6ImZjNWRmZDc1LTQ1NzktNGQ3MC05YTE3LTk0MmQ0OWMwMTc2ZiIsImMiOjl9', width=933, height=700)"
   ]
  },
  {
   "cell_type": "markdown",
   "metadata": {},
   "source": [
    "## Make A Decision On How To Move Forward\n",
    "\n",
    "Now that we have analyzed new marketing strategies, we are ready to make a recommendation to the CEO – adopt a referral program, because unless the service flops completely, you can’t really loose.\n",
    "\n",
    "If the service does flop, we need to pull the plug very quickly.\n",
    "\n",
    "If the referral program takes off, our customer service base could expand very quickly. We ought to prepare for that to ensure our service and organization scales appropriately.\n",
    "\n",
    "![Decision](images/decision.jpg)\n"
   ]
  }
 ],
 "metadata": {
  "kernelspec": {
   "display_name": "Python 3 (ipykernel)",
   "language": "python",
   "name": "python3"
  },
  "language_info": {
   "codemirror_mode": {
    "name": "ipython",
    "version": 3
   },
   "file_extension": ".py",
   "mimetype": "text/x-python",
   "name": "python",
   "nbconvert_exporter": "python",
   "pygments_lexer": "ipython3",
   "version": "3.9.7"
  }
 },
 "nbformat": 4,
 "nbformat_minor": 4
}
