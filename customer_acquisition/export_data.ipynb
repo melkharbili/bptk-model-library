{
 "cells": [
  {
   "cell_type": "code",
   "execution_count": 13,
   "metadata": {},
   "outputs": [],
   "source": [
    "# start bptk-py\n",
    "from BPTK_Py.bptk import bptk \n",
    "bptk = bptk()"
   ]
  },
  {
   "cell_type": "code",
   "execution_count": 14,
   "metadata": {},
   "outputs": [],
   "source": [
    "bptk.register_scenarios(scenario_manager=\"smCustomerAcquisition\",scenarios={\n",
    "                          \"interactiveScenario\":{\n",
    "                              \"constants\":{\n",
    "                                 \"referrals\":0,\n",
    "                                  \"advertisingSuccessPct\":0.1,\n",
    "                                  \"referralFreeMonths\":3,\n",
    "                                  \"referralProgamAdoptionPct\":10\n",
    "                                }\n",
    "                          }\n",
    "}\n",
    "\n",
    ")"
   ]
  },
  {
   "cell_type": "code",
   "execution_count": 15,
   "metadata": {},
   "outputs": [
    {
     "name": "stdout",
     "output_type": "stream",
     "text": [
      "\n",
      "*** smCustomerAcquisition ***\n",
      "\t base\n",
      "\t serviceFlop\n",
      "\t rethinkAdvertising\n",
      "\t referSomeonePlease\n",
      "\t hereWeGo\n",
      "\t boomButBust\n",
      "\t interactiveScenario\n"
     ]
    }
   ],
   "source": [
    "bptk.list_scenarios([\"smCustomerAcquisition\"])"
   ]
  },
  {
   "cell_type": "code",
   "execution_count": 17,
   "metadata": {},
   "outputs": [
    {
     "name": "stdout",
     "output_type": "stream",
     "text": [
      "CPU times: user 1min 34s, sys: 2.18 s, total: 1min 36s\n",
      "Wall time: 1min 36s\n"
     ]
    }
   ],
   "source": [
    "%%time\n",
    "\n",
    "## save the file in the current working directory\n",
    "import os\n",
    "export_directory=os.path.join(os.getcwd(),\"export\")\n",
    "if not os.path.isdir(export_directory):\n",
    "    os.mkdir(export_directory)\n",
    "export_filename= os.path.join(export_directory,\"customer_aquisition.xlsx\")\n",
    "\n",
    "## Load the BPTK Package\n",
    "bptk.export_scenarios(\n",
    "    scenario_manager=\"smCustomerAcquisition\",\n",
    "    equations=[\"customers\",\"profit\"],\n",
    "    filename=export_filename,\n",
    "    interactive_scenario=\"interactiveScenario\",\n",
    "    interactive_equations=[\"customers\",\"profit\"],\n",
    "    interactive_settings= {\n",
    "        \"advertisingSuccessPct\":(0,0.2,0.01),\n",
    "        \"referralFreeMonths\":(2,5,1),\n",
    "        \"referralProgramAdoptionPct\":(0,31,1),\n",
    "        \"referrals\":(2,5,1)\n",
    "    }\n",
    ")"
   ]
  },
  {
   "cell_type": "code",
   "execution_count": null,
   "metadata": {},
   "outputs": [],
   "source": []
  }
 ],
 "metadata": {
  "kernelspec": {
   "display_name": "Python 3",
   "language": "python",
   "name": "python3"
  },
  "language_info": {
   "codemirror_mode": {
    "name": "ipython",
    "version": 3
   },
   "file_extension": ".py",
   "mimetype": "text/x-python",
   "name": "python",
   "nbconvert_exporter": "python",
   "pygments_lexer": "ipython3",
   "version": "3.7.3"
  }
 },
 "nbformat": 4,
 "nbformat_minor": 4
}
